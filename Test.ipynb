{
  "cells": [
    {
      "cell_type": "markdown",
      "metadata": {
        "colab_type": "text",
        "id": "view-in-github"
      },
      "source": [
        "<a href=\"https://colab.research.google.com/github/ivandreeevich/test_repo/blob/master/Test.ipynb\" target=\"_parent\"><img src=\"https://colab.research.google.com/assets/colab-badge.svg\" alt=\"Open In Colab\"/></a>"
      ]
    },
    {
      "cell_type": "code",
      "execution_count": 24,
      "metadata": {
        "colab": {
          "base_uri": "https://localhost:8080/"
        },
        "id": "xwspMIw9y8-G",
        "outputId": "a0520352-4943-4106-bbcf-df898a0867ab"
      },
      "outputs": [],
      "source": [
        "import this"
      ]
    },
    {
      "cell_type": "code",
      "execution_count": 25,
      "metadata": {
        "colab": {
          "base_uri": "https://localhost:8080/"
        },
        "id": "jrOoQrULSHdu",
        "outputId": "15dc8275-136c-4424-f5bb-34445741742f"
      },
      "outputs": [
        {
          "name": "stdout",
          "output_type": "stream",
          "text": [
            "123 <class 'str'>\n"
          ]
        }
      ],
      "source": [
        "a = input(\"Введиите что-то такое:\")\n",
        "print(a.title(),type(a))"
      ]
    },
    {
      "cell_type": "code",
      "execution_count": 26,
      "metadata": {
        "colab": {
          "base_uri": "https://localhost:8080/"
        },
        "id": "_LOWu4TMzF_j",
        "outputId": "702e1a2a-532f-45ff-fcbe-94d2373f54cc"
      },
      "outputs": [
        {
          "name": "stdout",
          "output_type": "stream",
          "text": [
            "['False', 'None', 'True', 'and', 'as', 'assert', 'async', 'await', 'break', 'class', 'continue', 'def', 'del', 'elif', 'else', 'except', 'finally', 'for', 'from', 'global', 'if', 'import', 'in', 'is', 'lambda', 'nonlocal', 'not', 'or', 'pass', 'raise', 'return', 'try', 'while', 'with', 'yield']\n"
          ]
        }
      ],
      "source": [
        "import keyword\n",
        "print(keyword.kwlist)"
      ]
    },
    {
      "cell_type": "markdown",
      "metadata": {},
      "source": [
        "# Задаем псевдоним!"
      ]
    },
    {
      "cell_type": "code",
      "execution_count": 27,
      "metadata": {},
      "outputs": [
        {
          "data": {
            "text/html": [
              "<div>\n",
              "<style scoped>\n",
              "    .dataframe tbody tr th:only-of-type {\n",
              "        vertical-align: middle;\n",
              "    }\n",
              "\n",
              "    .dataframe tbody tr th {\n",
              "        vertical-align: top;\n",
              "    }\n",
              "\n",
              "    .dataframe thead th {\n",
              "        text-align: right;\n",
              "    }\n",
              "</style>\n",
              "<table border=\"1\" class=\"dataframe\">\n",
              "  <thead>\n",
              "    <tr style=\"text-align: right;\">\n",
              "      <th></th>\n",
              "      <th>class</th>\n",
              "      <th>image_count</th>\n",
              "      <th>avg_width</th>\n",
              "      <th>avg_height</th>\n",
              "      <th>min_width</th>\n",
              "      <th>min_height</th>\n",
              "      <th>max_width</th>\n",
              "      <th>max_height</th>\n",
              "      <th>formats</th>\n",
              "      <th>corrupt_files</th>\n",
              "    </tr>\n",
              "  </thead>\n",
              "  <tbody>\n",
              "    <tr>\n",
              "      <th>0</th>\n",
              "      <td>adidas_forum_high</td>\n",
              "      <td>150</td>\n",
              "      <td>143</td>\n",
              "      <td>124</td>\n",
              "      <td>78</td>\n",
              "      <td>81</td>\n",
              "      <td>162</td>\n",
              "      <td>140</td>\n",
              "      <td>jpeg</td>\n",
              "      <td>0</td>\n",
              "    </tr>\n",
              "    <tr>\n",
              "      <th>1</th>\n",
              "      <td>adidas_ultraboost</td>\n",
              "      <td>150</td>\n",
              "      <td>142</td>\n",
              "      <td>128</td>\n",
              "      <td>93</td>\n",
              "      <td>49</td>\n",
              "      <td>162</td>\n",
              "      <td>140</td>\n",
              "      <td>jpeg</td>\n",
              "      <td>0</td>\n",
              "    </tr>\n",
              "    <tr>\n",
              "      <th>2</th>\n",
              "      <td>new_balance_550</td>\n",
              "      <td>150</td>\n",
              "      <td>134</td>\n",
              "      <td>129</td>\n",
              "      <td>79</td>\n",
              "      <td>40</td>\n",
              "      <td>162</td>\n",
              "      <td>140</td>\n",
              "      <td>jpeg</td>\n",
              "      <td>0</td>\n",
              "    </tr>\n",
              "    <tr>\n",
              "      <th>3</th>\n",
              "      <td>new_balance_574</td>\n",
              "      <td>150</td>\n",
              "      <td>131</td>\n",
              "      <td>133</td>\n",
              "      <td>78</td>\n",
              "      <td>68</td>\n",
              "      <td>162</td>\n",
              "      <td>140</td>\n",
              "      <td>jpeg</td>\n",
              "      <td>0</td>\n",
              "    </tr>\n",
              "    <tr>\n",
              "      <th>4</th>\n",
              "      <td>converse_one_star</td>\n",
              "      <td>150</td>\n",
              "      <td>138</td>\n",
              "      <td>130</td>\n",
              "      <td>82</td>\n",
              "      <td>67</td>\n",
              "      <td>162</td>\n",
              "      <td>140</td>\n",
              "      <td>jpeg</td>\n",
              "      <td>0</td>\n",
              "    </tr>\n",
              "  </tbody>\n",
              "</table>\n",
              "</div>"
            ],
            "text/plain": [
              "               class  image_count  avg_width  avg_height  min_width  \\\n",
              "0  adidas_forum_high          150        143         124         78   \n",
              "1  adidas_ultraboost          150        142         128         93   \n",
              "2    new_balance_550          150        134         129         79   \n",
              "3    new_balance_574          150        131         133         78   \n",
              "4  converse_one_star          150        138         130         82   \n",
              "\n",
              "   min_height  max_width  max_height formats  corrupt_files  \n",
              "0          81        162         140    jpeg              0  \n",
              "1          49        162         140    jpeg              0  \n",
              "2          40        162         140    jpeg              0  \n",
              "3          68        162         140    jpeg              0  \n",
              "4          67        162         140    jpeg              0  "
            ]
          },
          "execution_count": 27,
          "metadata": {},
          "output_type": "execute_result"
        }
      ],
      "source": [
        "import pandas as pd #Задаем псевдоним\n",
        "\n",
        "df_2 = pd.read_csv(\"C:/Users/korol/OneDrive/Изображения/Документы/Demo/My_instruments/dataset_stats.csv\")\n",
        "df_2.head()"
      ]
    },
    {
      "cell_type": "code",
      "execution_count": 28,
      "metadata": {},
      "outputs": [
        {
          "data": {
            "text/html": [
              "<div>\n",
              "<style scoped>\n",
              "    .dataframe tbody tr th:only-of-type {\n",
              "        vertical-align: middle;\n",
              "    }\n",
              "\n",
              "    .dataframe tbody tr th {\n",
              "        vertical-align: top;\n",
              "    }\n",
              "\n",
              "    .dataframe thead th {\n",
              "        text-align: right;\n",
              "    }\n",
              "</style>\n",
              "<table border=\"1\" class=\"dataframe\">\n",
              "  <thead>\n",
              "    <tr style=\"text-align: right;\">\n",
              "      <th></th>\n",
              "      <th>class</th>\n",
              "      <th>image_count</th>\n",
              "      <th>avg_width</th>\n",
              "      <th>avg_height</th>\n",
              "      <th>min_width</th>\n",
              "      <th>min_height</th>\n",
              "      <th>max_width</th>\n",
              "      <th>max_height</th>\n",
              "      <th>formats</th>\n",
              "      <th>corrupt_files</th>\n",
              "    </tr>\n",
              "  </thead>\n",
              "  <tbody>\n",
              "    <tr>\n",
              "      <th>45</th>\n",
              "      <td>nike_air_jordan_1_low</td>\n",
              "      <td>79</td>\n",
              "      <td>135</td>\n",
              "      <td>130</td>\n",
              "      <td>97</td>\n",
              "      <td>68</td>\n",
              "      <td>300</td>\n",
              "      <td>140</td>\n",
              "      <td>jpeg, png</td>\n",
              "      <td>0</td>\n",
              "    </tr>\n",
              "    <tr>\n",
              "      <th>46</th>\n",
              "      <td>converse_chuck_taylor_all-star_high</td>\n",
              "      <td>78</td>\n",
              "      <td>134</td>\n",
              "      <td>135</td>\n",
              "      <td>91</td>\n",
              "      <td>68</td>\n",
              "      <td>300</td>\n",
              "      <td>140</td>\n",
              "      <td>jpeg, png</td>\n",
              "      <td>0</td>\n",
              "    </tr>\n",
              "    <tr>\n",
              "      <th>47</th>\n",
              "      <td>nike_air_jordan_1_high</td>\n",
              "      <td>77</td>\n",
              "      <td>139</td>\n",
              "      <td>128</td>\n",
              "      <td>97</td>\n",
              "      <td>81</td>\n",
              "      <td>162</td>\n",
              "      <td>140</td>\n",
              "      <td>jpeg</td>\n",
              "      <td>0</td>\n",
              "    </tr>\n",
              "    <tr>\n",
              "      <th>48</th>\n",
              "      <td>converse_chuck_70_high</td>\n",
              "      <td>75</td>\n",
              "      <td>132</td>\n",
              "      <td>135</td>\n",
              "      <td>84</td>\n",
              "      <td>91</td>\n",
              "      <td>162</td>\n",
              "      <td>140</td>\n",
              "      <td>jpeg</td>\n",
              "      <td>0</td>\n",
              "    </tr>\n",
              "    <tr>\n",
              "      <th>49</th>\n",
              "      <td>adidas_samba</td>\n",
              "      <td>74</td>\n",
              "      <td>139</td>\n",
              "      <td>129</td>\n",
              "      <td>93</td>\n",
              "      <td>68</td>\n",
              "      <td>300</td>\n",
              "      <td>140</td>\n",
              "      <td>jpeg, png</td>\n",
              "      <td>0</td>\n",
              "    </tr>\n",
              "  </tbody>\n",
              "</table>\n",
              "</div>"
            ],
            "text/plain": [
              "                                  class  image_count  avg_width  avg_height  \\\n",
              "45                nike_air_jordan_1_low           79        135         130   \n",
              "46  converse_chuck_taylor_all-star_high           78        134         135   \n",
              "47               nike_air_jordan_1_high           77        139         128   \n",
              "48               converse_chuck_70_high           75        132         135   \n",
              "49                         adidas_samba           74        139         129   \n",
              "\n",
              "    min_width  min_height  max_width  max_height    formats  corrupt_files  \n",
              "45         97          68        300         140  jpeg, png              0  \n",
              "46         91          68        300         140  jpeg, png              0  \n",
              "47         97          81        162         140       jpeg              0  \n",
              "48         84          91        162         140       jpeg              0  \n",
              "49         93          68        300         140  jpeg, png              0  "
            ]
          },
          "execution_count": 28,
          "metadata": {},
          "output_type": "execute_result"
        }
      ],
      "source": [
        "df_2.tail(5)"
      ]
    }
  ],
  "metadata": {
    "colab": {
      "authorship_tag": "ABX9TyM6ppB4p2o2q/Bts2iIb1WV",
      "include_colab_link": true,
      "provenance": []
    },
    "kernelspec": {
      "display_name": "Python 3",
      "name": "python3"
    },
    "language_info": {
      "codemirror_mode": {
        "name": "ipython",
        "version": 3
      },
      "file_extension": ".py",
      "mimetype": "text/x-python",
      "name": "python",
      "nbconvert_exporter": "python",
      "pygments_lexer": "ipython3",
      "version": "3.10.9"
    }
  },
  "nbformat": 4,
  "nbformat_minor": 0
}
